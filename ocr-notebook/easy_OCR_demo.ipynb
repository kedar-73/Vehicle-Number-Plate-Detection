{
  "cells": [
    {
      "cell_type": "code",
      "execution_count": 22,
      "metadata": {
        "colab": {
          "base_uri": "https://localhost:8080/"
        },
        "id": "hD8TRh0rCSmO",
        "outputId": "a2583808-a1d6-46ff-edde-6f2a1653979b"
      },
      "outputs": [
        {
          "name": "stdout",
          "output_type": "stream",
          "text": [
            "Requirement already satisfied: easyocr in c:\\users\\hp\\anaconda3\\lib\\site-packages (1.7.1)\n",
            "Requirement already satisfied: torch in c:\\users\\hp\\anaconda3\\lib\\site-packages (from easyocr) (2.2.2)\n",
            "Requirement already satisfied: torchvision>=0.5 in c:\\users\\hp\\anaconda3\\lib\\site-packages (from easyocr) (0.17.2)\n",
            "Requirement already satisfied: opencv-python-headless in c:\\users\\hp\\anaconda3\\lib\\site-packages (from easyocr) (4.9.0.80)\n",
            "Requirement already satisfied: scipy in c:\\users\\hp\\anaconda3\\lib\\site-packages (from easyocr) (1.11.4)\n",
            "Requirement already satisfied: numpy in c:\\users\\hp\\anaconda3\\lib\\site-packages (from easyocr) (1.26.4)\n",
            "Requirement already satisfied: Pillow in c:\\users\\hp\\anaconda3\\lib\\site-packages (from easyocr) (10.2.0)\n",
            "Requirement already satisfied: scikit-image in c:\\users\\hp\\anaconda3\\lib\\site-packages (from easyocr) (0.22.0)\n",
            "Requirement already satisfied: python-bidi in c:\\users\\hp\\anaconda3\\lib\\site-packages (from easyocr) (0.4.2)\n",
            "Requirement already satisfied: PyYAML in c:\\users\\hp\\anaconda3\\lib\\site-packages (from easyocr) (6.0.1)\n",
            "Requirement already satisfied: Shapely in c:\\users\\hp\\anaconda3\\lib\\site-packages (from easyocr) (2.0.3)\n",
            "Requirement already satisfied: pyclipper in c:\\users\\hp\\anaconda3\\lib\\site-packages (from easyocr) (1.3.0.post5)\n",
            "Requirement already satisfied: ninja in c:\\users\\hp\\anaconda3\\lib\\site-packages (from easyocr) (1.11.1.1)\n",
            "Requirement already satisfied: filelock in c:\\users\\hp\\anaconda3\\lib\\site-packages (from torch->easyocr) (3.13.1)\n",
            "Requirement already satisfied: typing-extensions>=4.8.0 in c:\\users\\hp\\anaconda3\\lib\\site-packages (from torch->easyocr) (4.9.0)\n",
            "Requirement already satisfied: sympy in c:\\users\\hp\\anaconda3\\lib\\site-packages (from torch->easyocr) (1.12)\n",
            "Requirement already satisfied: networkx in c:\\users\\hp\\anaconda3\\lib\\site-packages (from torch->easyocr) (3.1)\n",
            "Requirement already satisfied: jinja2 in c:\\users\\hp\\anaconda3\\lib\\site-packages (from torch->easyocr) (3.1.3)\n",
            "Requirement already satisfied: fsspec in c:\\users\\hp\\anaconda3\\lib\\site-packages (from torch->easyocr) (2023.10.0)\n",
            "Requirement already satisfied: six in c:\\users\\hp\\anaconda3\\lib\\site-packages (from python-bidi->easyocr) (1.16.0)\n",
            "Requirement already satisfied: imageio>=2.27 in c:\\users\\hp\\anaconda3\\lib\\site-packages (from scikit-image->easyocr) (2.33.1)\n",
            "Requirement already satisfied: tifffile>=2022.8.12 in c:\\users\\hp\\anaconda3\\lib\\site-packages (from scikit-image->easyocr) (2023.4.12)\n",
            "Requirement already satisfied: packaging>=21 in c:\\users\\hp\\anaconda3\\lib\\site-packages (from scikit-image->easyocr) (23.1)\n",
            "Requirement already satisfied: lazy_loader>=0.3 in c:\\users\\hp\\anaconda3\\lib\\site-packages (from scikit-image->easyocr) (0.3)\n",
            "Requirement already satisfied: MarkupSafe>=2.0 in c:\\users\\hp\\anaconda3\\lib\\site-packages (from jinja2->torch->easyocr) (2.1.3)\n",
            "Requirement already satisfied: mpmath>=0.19 in c:\\users\\hp\\anaconda3\\lib\\site-packages (from sympy->torch->easyocr) (1.3.0)\n",
            "Note: you may need to restart the kernel to use updated packages.\n"
          ]
        }
      ],
      "source": [
        "%pip install easyocr"
      ]
    },
    {
      "cell_type": "code",
      "execution_count": 23,
      "metadata": {
        "id": "6wKgPU52CZ6K"
      },
      "outputs": [],
      "source": [
        "import matplotlib.pyplot as plt\n",
        "import cv2\n",
        "import easyocr\n",
        "from IPython.display import Image"
      ]
    },
    {
      "cell_type": "code",
      "execution_count": 58,
      "metadata": {
        "colab": {
          "base_uri": "https://localhost:8080/",
          "height": 111
        },
        "id": "hxBLiy0AChPp",
        "outputId": "d5b54fb9-fc34-4b57-fb7e-314fcd0fe19b"
      },
      "outputs": [
        {
          "data": {
            "image/jpeg": "[encoded data removed]",
            "text/plain": [
              "<IPython.core.display.Image object>"
            ]
          },
          "execution_count": 58,
          "metadata": {},
          "output_type": "execute_result"
        }
      ],
      "source": [
        "Image(\"../plates/scaned_img_1.jpg\")"
      ]
    },
    {
      "cell_type": "code",
      "execution_count": 59,
      "metadata": {
        "id": "ZYD5fu4NCq2U"
      },
      "outputs": [
        {
          "name": "stderr",
          "output_type": "stream",
          "text": [
            "Neither CUDA nor MPS are available - defaulting to CPU. Note: This module is much faster with a GPU.\n"
          ]
        }
      ],
      "source": [
        "\n",
        "reader = easyocr.Reader(['en'])"
      ]
    },
    {
      "cell_type": "code",
      "execution_count": 63,
      "metadata": {
        "id": "ZCHP-450Cl9x"
      },
      "outputs": [],
      "source": [
        "\n",
        "output = reader.readtext('..\\plates\\scaned_img_1.jpg')"
      ]
    },
    {
      "cell_type": "code",
      "execution_count": 65,
      "metadata": {
        "colab": {
          "base_uri": "https://localhost:8080/"
        },
        "id": "Ao44WMNJC_4R",
        "outputId": "1478fe95-b4a9-40d9-ca93-9cbcb80e2d7e"
      },
      "outputs": [
        {
          "data": {
            "text/plain": [
              "'RJiLCVOO0z'"
            ]
          },
          "execution_count": 65,
          "metadata": {},
          "output_type": "execute_result"
        }
      ],
      "source": [
        "a=output\n",
        "a[0][1]\n"
      ]
    },
    {
      "cell_type": "code",
      "execution_count": 67,
      "metadata": {},
      "outputs": [
        {
          "name": "stdout",
          "output_type": "stream",
          "text": [
            "Data saved to output.csv\n"
          ]
        }
      ],
      "source": [
        "import pandas as pd\n",
        "c = a[0][1]\n",
        "# Create a DataFrame\n",
        "data = {\n",
        "    'Plate Number': [c]\n",
        "}\n",
        "df = pd.DataFrame(data)\n",
        "\n",
        "# Save DataFrame to CSV file\n",
        "df.to_csv('output.csv', index=False, mode='a')\n",
        "\n",
        "print(\"Data saved to output.csv\")\n"
      ]
    }
  ],
  "metadata": {
    "accelerator": "GPU",
    "colab": {
      "provenance": []
    },
    "kernelspec": {
      "display_name": "Python 3",
      "name": "python3"
    },
    "language_info": {
      "codemirror_mode": {
        "name": "ipython",
        "version": 3
      },
      "file_extension": ".py",
      "mimetype": "text/x-python",
      "name": "python",
      "nbconvert_exporter": "python",
      "pygments_lexer": "ipython3",
      "version": "3.11.7"
    }
  },
  "nbformat": 4,
  "nbformat_minor": 0
}
